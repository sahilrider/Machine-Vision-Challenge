{
  "nbformat": 4,
  "nbformat_minor": 0,
  "metadata": {
    "colab": {
      "name": "Freshness Index Final",
      "version": "0.3.2",
      "provenance": [],
      "collapsed_sections": []
    },
    "kernelspec": {
      "name": "python3",
      "display_name": "Python 3"
    },
    "accelerator": "GPU"
  },
  "cells": [
    {
      "metadata": {
        "id": "OpHR3xbdl3Dm",
        "colab_type": "text"
      },
      "cell_type": "markdown",
      "source": [
        "# Importing Libraries"
      ]
    },
    {
      "metadata": {
        "id": "2jA00xZWmEdG",
        "colab_type": "code",
        "colab": {}
      },
      "cell_type": "code",
      "source": [
        "import numpy as np\n",
        "import pandas as pd\n",
        "import matplotlib.pyplot as plt\n",
        "from matplotlib.pyplot import imshow\n",
        "import matplotlib.image as mpimg\n",
        "%matplotlib inline\n",
        "import seaborn as sns\n",
        "\n",
        "from keras.models import Sequential\n",
        "from keras.layers import Dense, Flatten, Activation, Dropout\n",
        "from keras.layers import Conv2D, MaxPooling2D\n",
        "from keras.layers.normalization import BatchNormalization\n",
        "from keras.utils import np_utils\n",
        "from keras.preprocessing.image import ImageDataGenerator\n",
        "from keras.optimizers import Adam , RMSprop\n",
        "from keras.callbacks import ReduceLROnPlateau\n",
        "from keras.wrappers.scikit_learn import KerasClassifier\n",
        "from keras.preprocessing import image\n",
        "\n",
        "from PIL import Image\n",
        "\n",
        "from sklearn.model_selection import GridSearchCV\n",
        "\n",
        "from IPython.display import Image "
      ],
      "execution_count": 0,
      "outputs": []
    },
    {
      "metadata": {
        "id": "Y3hVQ2mNm09Y",
        "colab_type": "code",
        "colab": {
          "base_uri": "https://localhost:8080/",
          "height": 34
        },
        "outputId": "4ad6c9f7-5f00-4119-ca48-9ad706eed491"
      },
      "cell_type": "code",
      "source": [
        "from google.colab import drive\n",
        "drive.mount('/content/drive')"
      ],
      "execution_count": 2,
      "outputs": [
        {
          "output_type": "stream",
          "text": [
            "Mounted at /content/drive\n"
          ],
          "name": "stdout"
        }
      ]
    },
    {
      "metadata": {
        "id": "4DV8EGaonWRL",
        "colab_type": "text"
      },
      "cell_type": "markdown",
      "source": [
        "**Building Dataset**"
      ]
    },
    {
      "metadata": {
        "id": "qFMTea0hncXv",
        "colab_type": "code",
        "colab": {}
      },
      "cell_type": "code",
      "source": [
        "train_datagen = ImageDataGenerator(rotation_range=90,\n",
        "                                   width_shift_range=0.08,\n",
        "                                   shear_range=0.3,\n",
        "                                   height_shift_range=0.08,\n",
        "                                   rescale = 1./255,\n",
        "                                   zoom_range = 0.08,\n",
        "                                   horizontal_flip = True)"
      ],
      "execution_count": 0,
      "outputs": []
    },
    {
      "metadata": {
        "id": "-tkLLT1xvDTv",
        "colab_type": "code",
        "colab": {}
      },
      "cell_type": "code",
      "source": [
        "test_datagen = ImageDataGenerator(rescale = 1./255)"
      ],
      "execution_count": 0,
      "outputs": []
    },
    {
      "metadata": {
        "id": "BXFIJI2-vGDc",
        "colab_type": "code",
        "colab": {
          "base_uri": "https://localhost:8080/",
          "height": 34
        },
        "outputId": "f99189dd-80eb-41ad-a097-5ab29b5a001a"
      },
      "cell_type": "code",
      "source": [
        "training_set = train_datagen.flow_from_directory('/content/drive/My Drive/TCS/Machine Vision Challenge/Flower Freshness Index/data/train',\n",
        "                                                 target_size = (128,128),\n",
        "                                                 batch_size = 16,\n",
        "                                                 class_mode = 'categorical')"
      ],
      "execution_count": 5,
      "outputs": [
        {
          "output_type": "stream",
          "text": [
            "Found 1005 images belonging to 2 classes.\n"
          ],
          "name": "stdout"
        }
      ]
    },
    {
      "metadata": {
        "id": "f_Ufo5L-wDLj",
        "colab_type": "code",
        "colab": {
          "base_uri": "https://localhost:8080/",
          "height": 34
        },
        "outputId": "0f02d0ed-b385-4646-e1a1-c6e4e1efb685"
      },
      "cell_type": "code",
      "source": [
        "test_set = test_datagen.flow_from_directory('/content/drive/My Drive/TCS/Machine Vision Challenge/Flower Freshness Index/data/test',\n",
        "                                                 target_size = (128,128),\n",
        "                                                 batch_size = 16,\n",
        "                                                 class_mode = 'categorical')"
      ],
      "execution_count": 6,
      "outputs": [
        {
          "output_type": "stream",
          "text": [
            "Found 450 images belonging to 2 classes.\n"
          ],
          "name": "stdout"
        }
      ]
    },
    {
      "metadata": {
        "id": "Z4_W7VJ9wktk",
        "colab_type": "text"
      },
      "cell_type": "markdown",
      "source": [
        "**Model**"
      ]
    },
    {
      "metadata": {
        "id": "AgVqHu6PwP2b",
        "colab_type": "code",
        "colab": {}
      },
      "cell_type": "code",
      "source": [
        "classifier = Sequential()\n",
        "\n",
        "classifier.add(Conv2D(32, (3, 3), input_shape = (128,128, 3),kernel_initializer='glorot_uniform', padding='same', activation = 'relu'))\n",
        "classifier.add(Conv2D(32, (3, 3), kernel_initializer='glorot_uniform', padding='same', activation = 'relu'))\n",
        "\n",
        "classifier.add(MaxPooling2D(pool_size = (2, 2)))\n",
        "classifier.add(Dropout(0.2))\n",
        "\n",
        "classifier.add(Conv2D(32, (3, 3), kernel_initializer='glorot_uniform', padding='same', activation = 'relu'))\n",
        "classifier.add(Conv2D(32, (3, 3), kernel_initializer='glorot_uniform', padding='same', activation = 'relu'))\n",
        "\n",
        "classifier.add(MaxPooling2D(pool_size = (1, 1)))\n",
        "classifier.add(Dropout(0.2))\n",
        "\n",
        "classifier.add(Conv2D(32, (3, 3), kernel_initializer='glorot_uniform', padding='same', activation = 'relu'))\n",
        "classifier.add(Conv2D(32, (3, 3), kernel_initializer='glorot_uniform', padding='same', activation = 'relu'))\n",
        "\n",
        "classifier.add(MaxPooling2D(pool_size = (2, 2)))\n",
        "classifier.add(Dropout(0.2))\n",
        "\n",
        "classifier.add(Flatten())\n",
        "classifier.add(Dense(units = 128, activation = 'relu'))\n",
        "\n",
        "classifier.add(Dropout(0.2))\n",
        "\n",
        "classifier.add(Dense(units = 2, activation = 'softmax'))\n",
        "\n"
      ],
      "execution_count": 0,
      "outputs": []
    },
    {
      "metadata": {
        "id": "pUKI4r1mQn_6",
        "colab_type": "code",
        "colab": {}
      },
      "cell_type": "code",
      "source": [
        "optimizer=RMSprop(lr=0.001,rho=0.9)"
      ],
      "execution_count": 0,
      "outputs": []
    },
    {
      "metadata": {
        "id": "v_yGbk6PQoW1",
        "colab_type": "code",
        "colab": {
          "base_uri": "https://localhost:8080/",
          "height": 680
        },
        "outputId": "cb2d3076-40cd-4660-d087-0442daa2f50e"
      },
      "cell_type": "code",
      "source": [
        "classifier.compile(optimizer = optimizer, loss = 'categorical_crossentropy', metrics = ['accuracy'])\n",
        "classifier.summary()"
      ],
      "execution_count": 40,
      "outputs": [
        {
          "output_type": "stream",
          "text": [
            "_________________________________________________________________\n",
            "Layer (type)                 Output Shape              Param #   \n",
            "=================================================================\n",
            "conv2d_19 (Conv2D)           (None, 128, 128, 32)      896       \n",
            "_________________________________________________________________\n",
            "conv2d_20 (Conv2D)           (None, 128, 128, 32)      9248      \n",
            "_________________________________________________________________\n",
            "max_pooling2d_10 (MaxPooling (None, 64, 64, 32)        0         \n",
            "_________________________________________________________________\n",
            "dropout_13 (Dropout)         (None, 64, 64, 32)        0         \n",
            "_________________________________________________________________\n",
            "conv2d_21 (Conv2D)           (None, 64, 64, 32)        9248      \n",
            "_________________________________________________________________\n",
            "conv2d_22 (Conv2D)           (None, 64, 64, 32)        9248      \n",
            "_________________________________________________________________\n",
            "max_pooling2d_11 (MaxPooling (None, 64, 64, 32)        0         \n",
            "_________________________________________________________________\n",
            "dropout_14 (Dropout)         (None, 64, 64, 32)        0         \n",
            "_________________________________________________________________\n",
            "conv2d_23 (Conv2D)           (None, 64, 64, 32)        9248      \n",
            "_________________________________________________________________\n",
            "conv2d_24 (Conv2D)           (None, 64, 64, 32)        9248      \n",
            "_________________________________________________________________\n",
            "max_pooling2d_12 (MaxPooling (None, 32, 32, 32)        0         \n",
            "_________________________________________________________________\n",
            "dropout_15 (Dropout)         (None, 32, 32, 32)        0         \n",
            "_________________________________________________________________\n",
            "flatten_4 (Flatten)          (None, 32768)             0         \n",
            "_________________________________________________________________\n",
            "dense_7 (Dense)              (None, 128)               4194432   \n",
            "_________________________________________________________________\n",
            "dropout_16 (Dropout)         (None, 128)               0         \n",
            "_________________________________________________________________\n",
            "dense_8 (Dense)              (None, 2)                 258       \n",
            "=================================================================\n",
            "Total params: 4,241,826\n",
            "Trainable params: 4,241,826\n",
            "Non-trainable params: 0\n",
            "_________________________________________________________________\n"
          ],
          "name": "stdout"
        }
      ]
    },
    {
      "metadata": {
        "id": "tHRjKMaCxj5_",
        "colab_type": "text"
      },
      "cell_type": "markdown",
      "source": [
        "**Fitting the model**"
      ]
    },
    {
      "metadata": {
        "id": "JcHcZYupOCR6",
        "colab_type": "code",
        "colab": {}
      },
      "cell_type": "code",
      "source": [
        "learning_rate_reduction = ReduceLROnPlateau(monitor='val_acc', \n",
        "                                            patience=4, \n",
        "                                            verbose=1, \n",
        "                                            factor=0.5, \n",
        "                                            min_lr=0.000001)"
      ],
      "execution_count": 0,
      "outputs": []
    },
    {
      "metadata": {
        "id": "ouePmJArxYLH",
        "colab_type": "code",
        "colab": {
          "base_uri": "https://localhost:8080/",
          "height": 731
        },
        "outputId": "49907568-e76d-4c27-9da0-0c3e92bf6543"
      },
      "cell_type": "code",
      "source": [
        "history=classifier.fit_generator(training_set,\n",
        "                         steps_per_epoch = 100,\n",
        "                         epochs = 20,\n",
        "                        validation_data = test_set,\n",
        "                        validation_steps = 45,\n",
        "                               callbacks=[learning_rate_reduction] )"
      ],
      "execution_count": 42,
      "outputs": [
        {
          "output_type": "stream",
          "text": [
            "Epoch 1/20\n",
            "100/100 [==============================] - 18s 177ms/step - loss: 0.7185 - acc: 0.6217 - val_loss: 0.5931 - val_acc: 0.7125\n",
            "Epoch 2/20\n",
            "100/100 [==============================] - 15s 153ms/step - loss: 0.5603 - acc: 0.7405 - val_loss: 0.4512 - val_acc: 0.8031\n",
            "Epoch 3/20\n",
            "100/100 [==============================] - 15s 153ms/step - loss: 0.5299 - acc: 0.7382 - val_loss: 0.4684 - val_acc: 0.7960\n",
            "Epoch 4/20\n",
            "100/100 [==============================] - 15s 154ms/step - loss: 0.4998 - acc: 0.7616 - val_loss: 0.4391 - val_acc: 0.8130\n",
            "Epoch 5/20\n",
            "100/100 [==============================] - 15s 149ms/step - loss: 0.4804 - acc: 0.7845 - val_loss: 0.4851 - val_acc: 0.7734\n",
            "Epoch 6/20\n",
            "100/100 [==============================] - 16s 160ms/step - loss: 0.4538 - acc: 0.8058 - val_loss: 0.4180 - val_acc: 0.8045\n",
            "Epoch 7/20\n",
            "100/100 [==============================] - 15s 153ms/step - loss: 0.4551 - acc: 0.7897 - val_loss: 0.3771 - val_acc: 0.8371\n",
            "Epoch 8/20\n",
            "100/100 [==============================] - 15s 152ms/step - loss: 0.4370 - acc: 0.8080 - val_loss: 0.4334 - val_acc: 0.8201\n",
            "Epoch 9/20\n",
            "100/100 [==============================] - 15s 155ms/step - loss: 0.4419 - acc: 0.8149 - val_loss: 0.3860 - val_acc: 0.8456\n",
            "Epoch 10/20\n",
            "100/100 [==============================] - 15s 150ms/step - loss: 0.4372 - acc: 0.8166 - val_loss: 0.3915 - val_acc: 0.8470\n",
            "Epoch 11/20\n",
            "100/100 [==============================] - 16s 159ms/step - loss: 0.4381 - acc: 0.8165 - val_loss: 0.4100 - val_acc: 0.8088\n",
            "Epoch 12/20\n",
            "100/100 [==============================] - 15s 154ms/step - loss: 0.4029 - acc: 0.8194 - val_loss: 0.3807 - val_acc: 0.8357\n",
            "Epoch 13/20\n",
            "100/100 [==============================] - 15s 154ms/step - loss: 0.4299 - acc: 0.8189 - val_loss: 0.4585 - val_acc: 0.8144\n",
            "Epoch 14/20\n",
            "100/100 [==============================] - 15s 153ms/step - loss: 0.4066 - acc: 0.8194 - val_loss: 0.3934 - val_acc: 0.8187\n",
            "\n",
            "Epoch 00014: ReduceLROnPlateau reducing learning rate to 0.0005000000237487257.\n",
            "Epoch 15/20\n",
            "100/100 [==============================] - 15s 152ms/step - loss: 0.3737 - acc: 0.8450 - val_loss: 0.5138 - val_acc: 0.8456\n",
            "Epoch 16/20\n",
            "100/100 [==============================] - 15s 155ms/step - loss: 0.3810 - acc: 0.8449 - val_loss: 0.4122 - val_acc: 0.8555\n",
            "Epoch 17/20\n",
            "100/100 [==============================] - 15s 147ms/step - loss: 0.3569 - acc: 0.8482 - val_loss: 0.3647 - val_acc: 0.8697\n",
            "Epoch 18/20\n",
            "100/100 [==============================] - 16s 164ms/step - loss: 0.3470 - acc: 0.8507 - val_loss: 0.4069 - val_acc: 0.8541\n",
            "Epoch 19/20\n",
            "100/100 [==============================] - 15s 152ms/step - loss: 0.3464 - acc: 0.8521 - val_loss: 0.3993 - val_acc: 0.8612\n",
            "Epoch 20/20\n",
            "100/100 [==============================] - 16s 156ms/step - loss: 0.3653 - acc: 0.8538 - val_loss: 0.3660 - val_acc: 0.8640\n"
          ],
          "name": "stdout"
        }
      ]
    },
    {
      "metadata": {
        "id": "xKUMxipgQy8n",
        "colab_type": "code",
        "colab": {
          "base_uri": "https://localhost:8080/",
          "height": 294
        },
        "outputId": "b9435b6e-b649-490d-eb3b-fe5ff7d82e6b"
      },
      "cell_type": "code",
      "source": [
        "#rmsprop\n",
        "plt.plot(history.history['acc'])\n",
        "plt.plot(history.history['val_acc'])\n",
        "plt.xlabel('Epochs')\n",
        "plt.ylabel('Accuracy')\n",
        "plt.title('Accuracy vs Epochs')\n",
        "plt.legend(['train','validate'])\n",
        "plt.show()"
      ],
      "execution_count": 43,
      "outputs": [
        {
          "output_type": "display_data",
          "data": {
            "image/png": "[encoded data removed]",
            "text/plain": [
              "<matplotlib.figure.Figure at 0x7fb53c3a6d68>"
            ]
          },
          "metadata": {
            "tags": []
          }
        }
      ]
    },
    {
      "metadata": {
        "id": "QYfUiEayycGt",
        "colab_type": "code",
        "colab": {
          "base_uri": "https://localhost:8080/",
          "height": 294
        },
        "outputId": "9b46ee18-4e9b-4bc1-9d62-4072a83a376c"
      },
      "cell_type": "code",
      "source": [
        "plt.plot(history.history['loss'])\n",
        "plt.plot(history.history['val_loss'])\n",
        "plt.xlabel('Epochs')\n",
        "plt.ylabel('Loss')\n",
        "plt.title('Loss vs Epochs')\n",
        "plt.legend(['train','validate'])\n",
        "plt.show()"
      ],
      "execution_count": 44,
      "outputs": [
        {
          "output_type": "display_data",
          "data": {
            "image/png": "[encoded data removed]",
            "text/plain": [
              "<matplotlib.figure.Figure at 0x7fb53c2a51d0>"
            ]
          },
          "metadata": {
            "tags": []
          }
        }
      ]
    },
    {
      "metadata": {
        "id": "6_8ZE94UgfzB",
        "colab_type": "text"
      },
      "cell_type": "markdown",
      "source": [
        "**Evaluate / Predict**"
      ]
    },
    {
      "metadata": {
        "id": "N9jh6alRgeh6",
        "colab_type": "code",
        "colab": {
          "base_uri": "https://localhost:8080/",
          "height": 34
        },
        "outputId": "750cae8e-95aa-4e77-fdb4-92db73b3666a"
      },
      "cell_type": "code",
      "source": [
        "predict_datagen = ImageDataGenerator(rescale = 1./255)\n",
        "prediction_set = predict_datagen.flow_from_directory('/content/drive/My Drive/TCS/Machine Vision Challenge/Flower Freshness Index/data/predict',\n",
        "                                                 target_size = (128,128),\n",
        "                                                 batch_size = 16,\n",
        "                                                 class_mode = 'categorical')"
      ],
      "execution_count": 45,
      "outputs": [
        {
          "output_type": "stream",
          "text": [
            "Found 478 images belonging to 2 classes.\n"
          ],
          "name": "stdout"
        }
      ]
    },
    {
      "metadata": {
        "id": "pT-Mto7ShrZD",
        "colab_type": "code",
        "colab": {}
      },
      "cell_type": "code",
      "source": [
        "acc, loss = classifier.evaluate_generator(prediction_set)"
      ],
      "execution_count": 0,
      "outputs": []
    },
    {
      "metadata": {
        "id": "H5vRdDSJhb6s",
        "colab_type": "code",
        "colab": {
          "base_uri": "https://localhost:8080/",
          "height": 34
        },
        "outputId": "21b21048-a334-4b56-a059-2c39dbb025d9"
      },
      "cell_type": "code",
      "source": [
        "print(\"Test Accuracy = %.1f\"%(acc*100))"
      ],
      "execution_count": 47,
      "outputs": [
        {
          "output_type": "stream",
          "text": [
            "Test Accuracy = 73.0\n"
          ],
          "name": "stdout"
        }
      ]
    },
    {
      "metadata": {
        "id": "m2On5xHIhrRn",
        "colab_type": "code",
        "colab": {
          "base_uri": "https://localhost:8080/",
          "height": 259
        },
        "outputId": "1cf3b67e-a10c-4ee9-f9ee-f89c573e3c31"
      },
      "cell_type": "code",
      "source": [
        "# Fresh Image\n",
        "test_image1 = image.load_img('/content/drive/My Drive/TCS/Machine Vision Challenge/Flower Freshness Index/data/predict/images_336.jpg', target_size = (128, 128))\n",
        "\n",
        "test_image1 = image.img_to_array(test_image1)\n",
        "test_image1 = np.expand_dims(test_image1, axis = 0)\n",
        "res1=classifier.predict_classes(test_image1)\n",
        "print(\"Predicted Class =\",res1)\n",
        "Image(filename='/content/drive/My Drive/TCS/Machine Vision Challenge/Flower Freshness Index/data/predict/images_336.jpg')"
      ],
      "execution_count": 68,
      "outputs": [
        {
          "output_type": "stream",
          "text": [
            "Predicted Class = [1]\n"
          ],
          "name": "stdout"
        },
        {
          "output_type": "execute_result",
          "data": {
            "image/jpeg": "[encoded data removed]",
            "text/plain": [
              "<IPython.core.display.Image object>"
            ]
          },
          "metadata": {
            "tags": []
          },
          "execution_count": 68
        }
      ]
    },
    {
      "metadata": {
        "id": "PJxnFSWddmU1",
        "colab_type": "code",
        "colab": {
          "base_uri": "https://localhost:8080/",
          "height": 284
        },
        "outputId": "485941a0-5b7f-44a4-a89f-7ddd97b8d591"
      },
      "cell_type": "code",
      "source": [
        "# Wilted Flower\n",
        "\n",
        "test_image2 = image.load_img('/content/drive/My Drive/TCS/Machine Vision Challenge/Flower Freshness Index/data/predict/images_281.jpg', target_size = (128, 128))\n",
        "test_image2 = image.img_to_array(test_image2)\n",
        "test_image2 = np.expand_dims(test_image2, axis = 0)\n",
        "res2 = classifier.predict_classes(test_image2)\n",
        "print(\"Predicted Class =\",res2)\n",
        "\n",
        "Image(filename='/content/drive/My Drive/TCS/Machine Vision Challenge/Flower Freshness Index/data/predict/images_281.jpg')"
      ],
      "execution_count": 70,
      "outputs": [
        {
          "output_type": "stream",
          "text": [
            "Predicted Class = [0]\n"
          ],
          "name": "stdout"
        },
        {
          "output_type": "execute_result",
          "data": {
            "image/jpeg": "[encoded data removed]",
            "text/plain": [
              "<IPython.core.display.Image object>"
            ]
          },
          "metadata": {
            "tags": []
          },
          "execution_count": 70
        }
      ]
    }
  ]
}