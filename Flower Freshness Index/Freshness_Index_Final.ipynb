{
  "nbformat": 4,
  "nbformat_minor": 0,
  "metadata": {
    "colab": {
      "name": "Freshness Index Final",
      "version": "0.3.2",
      "provenance": [],
      "collapsed_sections": []
    },
    "kernelspec": {
      "name": "python3",
      "display_name": "Python 3"
    },
    "accelerator": "GPU"
  },
  "cells": [
    {
      "metadata": {
        "id": "OpHR3xbdl3Dm",
        "colab_type": "text"
      },
      "cell_type": "markdown",
      "source": [
        "# Importing Libraries"
      ]
    },
    {
      "metadata": {
        "id": "2jA00xZWmEdG",
        "colab_type": "code",
        "colab": {
          "base_uri": "https://localhost:8080/",
          "height": 34
        },
        "outputId": "a3e58792-3a25-4730-dbca-da5a3dbf7c0d"
      },
      "cell_type": "code",
      "source": [
        "import numpy as np\n",
        "import pandas as pd\n",
        "import matplotlib.pyplot as plt\n",
        "from matplotlib.pyplot import imshow\n",
        "import matplotlib.image as mpimg\n",
        "%matplotlib inline\n",
        "import seaborn as sns\n",
        "\n",
        "from keras.models import Sequential\n",
        "from keras.layers import Dense, Flatten, Activation, Dropout\n",
        "from keras.layers import Conv2D, MaxPooling2D\n",
        "from keras.layers.normalization import BatchNormalization\n",
        "from keras.utils import np_utils\n",
        "from keras.preprocessing.image import ImageDataGenerator\n",
        "from keras.optimizers import Adam , RMSprop\n",
        "from keras.callbacks import ReduceLROnPlateau\n",
        "from keras.wrappers.scikit_learn import KerasClassifier\n",
        "from keras.preprocessing import image\n",
        "\n",
        "from PIL import Image\n",
        "\n",
        "from sklearn.model_selection import GridSearchCV\n",
        "\n",
        "from IPython.display import Image "
      ],
      "execution_count": 1,
      "outputs": [
        {
          "output_type": "stream",
          "text": [
            "Using TensorFlow backend.\n"
          ],
          "name": "stderr"
        }
      ]
    },
    {
      "metadata": {
        "id": "Y3hVQ2mNm09Y",
        "colab_type": "code",
        "colab": {
          "base_uri": "https://localhost:8080/",
          "height": 122
        },
        "outputId": "d7891fab-6b84-41ef-c3e6-9c393f068177"
      },
      "cell_type": "code",
      "source": [
        "# mounting google drive to the notebook\n",
        "\n",
        "from google.colab import drive\n",
        "drive.mount('/content/drive')"
      ],
      "execution_count": 2,
      "outputs": [
        {
          "output_type": "stream",
          "text": [
            "Go to this URL in a browser: https://accounts.google.com/o/oauth2/auth?client_id=947318989803-6bn6qk8qdgf4n4g3pfee6491hc0brc4i.apps.googleusercontent.com&redirect_uri=urn%3Aietf%3Awg%3Aoauth%3A2.0%3Aoob&scope=email%20https%3A%2F%2Fwww.googleapis.com%2Fauth%2Fdocs.test%20https%3A%2F%2Fwww.googleapis.com%2Fauth%2Fdrive%20https%3A%2F%2Fwww.googleapis.com%2Fauth%2Fdrive.photos.readonly%20https%3A%2F%2Fwww.googleapis.com%2Fauth%2Fpeopleapi.readonly&response_type=code\n",
            "\n",
            "Enter your authorization code:\n",
            "··········\n",
            "Mounted at /content/drive\n"
          ],
          "name": "stdout"
        }
      ]
    },
    {
      "metadata": {
        "id": "4DV8EGaonWRL",
        "colab_type": "text"
      },
      "cell_type": "markdown",
      "source": [
        "**Building Dataset**"
      ]
    },
    {
      "metadata": {
        "id": "TbTb6DbyNaGV",
        "colab_type": "code",
        "colab": {}
      },
      "cell_type": "code",
      "source": [
        "np.random.seed(34)"
      ],
      "execution_count": 0,
      "outputs": []
    },
    {
      "metadata": {
        "id": "qFMTea0hncXv",
        "colab_type": "code",
        "colab": {}
      },
      "cell_type": "code",
      "source": [
        "# Image Data Generator for training data\n",
        "train_datagen = ImageDataGenerator(rotation_range=90,\n",
        "                                   width_shift_range=0.08,\n",
        "                                   shear_range=0.3,\n",
        "                                   height_shift_range=0.08,\n",
        "                                   rescale = 1./255,\n",
        "                                   zoom_range = 0.08,\n",
        "                                   horizontal_flip = True)"
      ],
      "execution_count": 0,
      "outputs": []
    },
    {
      "metadata": {
        "id": "-tkLLT1xvDTv",
        "colab_type": "code",
        "colab": {}
      },
      "cell_type": "code",
      "source": [
        "# Image Data Generator for validation data\n",
        "test_datagen = ImageDataGenerator(rescale = 1./255)"
      ],
      "execution_count": 0,
      "outputs": []
    },
    {
      "metadata": {
        "id": "BXFIJI2-vGDc",
        "colab_type": "code",
        "colab": {
          "base_uri": "https://localhost:8080/",
          "height": 34
        },
        "outputId": "0db1c241-6642-4f8d-d98f-f286b2a1cfcb"
      },
      "cell_type": "code",
      "source": [
        "# Reading Files for training\n",
        "training_set = train_datagen.flow_from_directory('/content/drive/My Drive/TCS/Machine Vision Challenge/Flower Freshness Index/data/train',\n",
        "                                                 target_size = (128,128),\n",
        "                                                 batch_size = 16,\n",
        "                                                 class_mode = 'categorical')"
      ],
      "execution_count": 6,
      "outputs": [
        {
          "output_type": "stream",
          "text": [
            "Found 1005 images belonging to 2 classes.\n"
          ],
          "name": "stdout"
        }
      ]
    },
    {
      "metadata": {
        "id": "f_Ufo5L-wDLj",
        "colab_type": "code",
        "colab": {
          "base_uri": "https://localhost:8080/",
          "height": 34
        },
        "outputId": "b2b2c774-af22-42e2-a00c-4d862f8a4178"
      },
      "cell_type": "code",
      "source": [
        "# Reading files for test\n",
        "test_set = test_datagen.flow_from_directory('/content/drive/My Drive/TCS/Machine Vision Challenge/Flower Freshness Index/data/test',\n",
        "                                                 target_size = (128,128),\n",
        "                                                 batch_size = 16,\n",
        "                                                 class_mode = 'categorical')"
      ],
      "execution_count": 7,
      "outputs": [
        {
          "output_type": "stream",
          "text": [
            "Found 450 images belonging to 2 classes.\n"
          ],
          "name": "stdout"
        }
      ]
    },
    {
      "metadata": {
        "id": "Z4_W7VJ9wktk",
        "colab_type": "text"
      },
      "cell_type": "markdown",
      "source": [
        "**Model**"
      ]
    },
    {
      "metadata": {
        "id": "AgVqHu6PwP2b",
        "colab_type": "code",
        "colab": {}
      },
      "cell_type": "code",
      "source": [
        "# Building a CNN model\n",
        "classifier = Sequential()\n",
        "\n",
        "classifier.add(Conv2D(32, (3, 3), input_shape = (128,128, 3),kernel_initializer='glorot_uniform', padding='same', activation = 'relu'))\n",
        "classifier.add(Conv2D(32, (3, 3), kernel_initializer='glorot_uniform', padding='same', activation = 'relu'))\n",
        "\n",
        "classifier.add(MaxPooling2D(pool_size = (2, 2)))\n",
        "classifier.add(Dropout(0.2))\n",
        "\n",
        "classifier.add(Conv2D(32, (3, 3), kernel_initializer='glorot_uniform', padding='same', activation = 'relu'))\n",
        "classifier.add(Conv2D(32, (3, 3), kernel_initializer='glorot_uniform', padding='same', activation = 'relu'))\n",
        "\n",
        "classifier.add(MaxPooling2D(pool_size = (1, 1)))\n",
        "classifier.add(Dropout(0.2))\n",
        "\n",
        "classifier.add(Conv2D(32, (3, 3), kernel_initializer='glorot_uniform', padding='same', activation = 'relu'))\n",
        "classifier.add(Conv2D(32, (3, 3), kernel_initializer='glorot_uniform', padding='same', activation = 'relu'))\n",
        "\n",
        "classifier.add(MaxPooling2D(pool_size = (2, 2)))\n",
        "classifier.add(Dropout(0.2))\n",
        "\n",
        "classifier.add(Flatten())\n",
        "classifier.add(Dense(units = 128, activation = 'relu'))\n",
        "\n",
        "classifier.add(Dropout(0.2))\n",
        "\n",
        "classifier.add(Dense(units = 2, activation = 'softmax'))\n",
        "\n"
      ],
      "execution_count": 0,
      "outputs": []
    },
    {
      "metadata": {
        "id": "pUKI4r1mQn_6",
        "colab_type": "code",
        "colab": {}
      },
      "cell_type": "code",
      "source": [
        "# Using RMSprop as optimizer\n",
        "optimizer=RMSprop(lr=0.001,rho=0.9)"
      ],
      "execution_count": 0,
      "outputs": []
    },
    {
      "metadata": {
        "id": "v_yGbk6PQoW1",
        "colab_type": "code",
        "colab": {
          "base_uri": "https://localhost:8080/",
          "height": 680
        },
        "outputId": "e3ae55b6-5a3a-4596-de3a-520460b7ec62"
      },
      "cell_type": "code",
      "source": [
        "classifier.compile(optimizer = optimizer, loss = 'categorical_crossentropy', metrics = ['accuracy'])\n",
        "classifier.summary()"
      ],
      "execution_count": 10,
      "outputs": [
        {
          "output_type": "stream",
          "text": [
            "_________________________________________________________________\n",
            "Layer (type)                 Output Shape              Param #   \n",
            "=================================================================\n",
            "conv2d_1 (Conv2D)            (None, 128, 128, 32)      896       \n",
            "_________________________________________________________________\n",
            "conv2d_2 (Conv2D)            (None, 128, 128, 32)      9248      \n",
            "_________________________________________________________________\n",
            "max_pooling2d_1 (MaxPooling2 (None, 64, 64, 32)        0         \n",
            "_________________________________________________________________\n",
            "dropout_1 (Dropout)          (None, 64, 64, 32)        0         \n",
            "_________________________________________________________________\n",
            "conv2d_3 (Conv2D)            (None, 64, 64, 32)        9248      \n",
            "_________________________________________________________________\n",
            "conv2d_4 (Conv2D)            (None, 64, 64, 32)        9248      \n",
            "_________________________________________________________________\n",
            "max_pooling2d_2 (MaxPooling2 (None, 64, 64, 32)        0         \n",
            "_________________________________________________________________\n",
            "dropout_2 (Dropout)          (None, 64, 64, 32)        0         \n",
            "_________________________________________________________________\n",
            "conv2d_5 (Conv2D)            (None, 64, 64, 32)        9248      \n",
            "_________________________________________________________________\n",
            "conv2d_6 (Conv2D)            (None, 64, 64, 32)        9248      \n",
            "_________________________________________________________________\n",
            "max_pooling2d_3 (MaxPooling2 (None, 32, 32, 32)        0         \n",
            "_________________________________________________________________\n",
            "dropout_3 (Dropout)          (None, 32, 32, 32)        0         \n",
            "_________________________________________________________________\n",
            "flatten_1 (Flatten)          (None, 32768)             0         \n",
            "_________________________________________________________________\n",
            "dense_1 (Dense)              (None, 128)               4194432   \n",
            "_________________________________________________________________\n",
            "dropout_4 (Dropout)          (None, 128)               0         \n",
            "_________________________________________________________________\n",
            "dense_2 (Dense)              (None, 2)                 258       \n",
            "=================================================================\n",
            "Total params: 4,241,826\n",
            "Trainable params: 4,241,826\n",
            "Non-trainable params: 0\n",
            "_________________________________________________________________\n"
          ],
          "name": "stdout"
        }
      ]
    },
    {
      "metadata": {
        "id": "tHRjKMaCxj5_",
        "colab_type": "text"
      },
      "cell_type": "markdown",
      "source": [
        "**Fitting the model**"
      ]
    },
    {
      "metadata": {
        "id": "JcHcZYupOCR6",
        "colab_type": "code",
        "colab": {}
      },
      "cell_type": "code",
      "source": [
        "# Reducing Learning Rate when there is no learning\n",
        "learning_rate_reduction = ReduceLROnPlateau(monitor='val_acc', \n",
        "                                            patience=4, \n",
        "                                            verbose=1, \n",
        "                                            factor=0.5, \n",
        "                                            min_lr=0.000001)"
      ],
      "execution_count": 0,
      "outputs": []
    },
    {
      "metadata": {
        "id": "ouePmJArxYLH",
        "colab_type": "code",
        "colab": {
          "base_uri": "https://localhost:8080/",
          "height": 765
        },
        "outputId": "ba21a5ce-c243-4434-d2a5-f4619b41df22"
      },
      "cell_type": "code",
      "source": [
        "# Fitting model with train and validation set\n",
        "history=classifier.fit_generator(training_set,\n",
        "                         steps_per_epoch = 100,\n",
        "                         epochs = 20,\n",
        "                        validation_data = test_set,\n",
        "                        validation_steps = 45,\n",
        "                               callbacks=[learning_rate_reduction] )"
      ],
      "execution_count": 12,
      "outputs": [
        {
          "output_type": "stream",
          "text": [
            "Epoch 1/20\n",
            "100/100 [==============================] - 630s 6s/step - loss: 0.6852 - acc: 0.6403 - val_loss: 0.6271 - val_acc: 0.7153\n",
            "Epoch 2/20\n",
            "100/100 [==============================] - 16s 155ms/step - loss: 0.5855 - acc: 0.7303 - val_loss: 0.5210 - val_acc: 0.7280\n",
            "Epoch 3/20\n",
            "100/100 [==============================] - 16s 157ms/step - loss: 0.5280 - acc: 0.7452 - val_loss: 0.4214 - val_acc: 0.8074\n",
            "Epoch 4/20\n",
            "100/100 [==============================] - 16s 156ms/step - loss: 0.5128 - acc: 0.7554 - val_loss: 0.4639 - val_acc: 0.8102\n",
            "Epoch 5/20\n",
            "100/100 [==============================] - 15s 153ms/step - loss: 0.4810 - acc: 0.7833 - val_loss: 0.4117 - val_acc: 0.8343\n",
            "Epoch 6/20\n",
            "100/100 [==============================] - 17s 169ms/step - loss: 0.4789 - acc: 0.7880 - val_loss: 0.4095 - val_acc: 0.8088\n",
            "Epoch 7/20\n",
            "100/100 [==============================] - 16s 158ms/step - loss: 0.4679 - acc: 0.7910 - val_loss: 0.4513 - val_acc: 0.8003\n",
            "Epoch 8/20\n",
            "100/100 [==============================] - 16s 161ms/step - loss: 0.4780 - acc: 0.7891 - val_loss: 0.4116 - val_acc: 0.8513\n",
            "Epoch 9/20\n",
            "100/100 [==============================] - 16s 157ms/step - loss: 0.4583 - acc: 0.7953 - val_loss: 0.4012 - val_acc: 0.8484\n",
            "Epoch 10/20\n",
            "100/100 [==============================] - 16s 157ms/step - loss: 0.4363 - acc: 0.8107 - val_loss: 0.7639 - val_acc: 0.7394\n",
            "Epoch 11/20\n",
            "100/100 [==============================] - 16s 165ms/step - loss: 0.4385 - acc: 0.8062 - val_loss: 0.4258 - val_acc: 0.8272\n",
            "Epoch 12/20\n",
            "100/100 [==============================] - 16s 158ms/step - loss: 0.4414 - acc: 0.8014 - val_loss: 0.4376 - val_acc: 0.8357\n",
            "\n",
            "Epoch 00012: ReduceLROnPlateau reducing learning rate to 0.0005000000237487257.\n",
            "Epoch 13/20\n",
            "100/100 [==============================] - 16s 157ms/step - loss: 0.3850 - acc: 0.8360 - val_loss: 0.4167 - val_acc: 0.8499\n",
            "Epoch 14/20\n",
            "100/100 [==============================] - 16s 159ms/step - loss: 0.3680 - acc: 0.8310 - val_loss: 0.3787 - val_acc: 0.8484\n",
            "Epoch 15/20\n",
            "100/100 [==============================] - 16s 158ms/step - loss: 0.3656 - acc: 0.8448 - val_loss: 0.4567 - val_acc: 0.8513\n",
            "Epoch 16/20\n",
            "100/100 [==============================] - 16s 160ms/step - loss: 0.3758 - acc: 0.8387 - val_loss: 0.4145 - val_acc: 0.8669\n",
            "Epoch 17/20\n",
            "100/100 [==============================] - 15s 153ms/step - loss: 0.3642 - acc: 0.8492 - val_loss: 0.4097 - val_acc: 0.8442\n",
            "Epoch 18/20\n",
            "100/100 [==============================] - 17s 174ms/step - loss: 0.3676 - acc: 0.8428 - val_loss: 0.4325 - val_acc: 0.8428\n",
            "Epoch 19/20\n",
            "100/100 [==============================] - 16s 157ms/step - loss: 0.3707 - acc: 0.8476 - val_loss: 0.3894 - val_acc: 0.8569\n",
            "Epoch 20/20\n",
            "100/100 [==============================] - 16s 158ms/step - loss: 0.3515 - acc: 0.8503 - val_loss: 0.4069 - val_acc: 0.8399\n",
            "\n",
            "Epoch 00020: ReduceLROnPlateau reducing learning rate to 0.0002500000118743628.\n"
          ],
          "name": "stdout"
        }
      ]
    },
    {
      "metadata": {
        "id": "xKUMxipgQy8n",
        "colab_type": "code",
        "colab": {
          "base_uri": "https://localhost:8080/",
          "height": 294
        },
        "outputId": "3d6d4f38-0d3f-4b29-b559-a88f0641b930"
      },
      "cell_type": "code",
      "source": [
        "# Plotting Accuracy vs epochs\n",
        "plt.plot(history.history['acc'])\n",
        "plt.plot(history.history['val_acc'])\n",
        "plt.xlabel('Epochs')\n",
        "plt.ylabel('Accuracy')\n",
        "plt.title('Accuracy vs Epochs')\n",
        "plt.legend(['train','validate'])\n",
        "plt.show()"
      ],
      "execution_count": 13,
      "outputs": [
        {
          "output_type": "display_data",
          "data": {
            "image/png": "[encoded data removed]",
            "text/plain": [
              "<matplotlib.figure.Figure at 0x7f52900b7b00>"
            ]
          },
          "metadata": {
            "tags": []
          }
        }
      ]
    },
    {
      "metadata": {
        "id": "QYfUiEayycGt",
        "colab_type": "code",
        "colab": {
          "base_uri": "https://localhost:8080/",
          "height": 294
        },
        "outputId": "0ee74b36-3f0f-4060-c28d-7622f941a99c"
      },
      "cell_type": "code",
      "source": [
        "# Plotting Loss vs epochs\n",
        "plt.plot(history.history['loss'])\n",
        "plt.plot(history.history['val_loss'])\n",
        "plt.xlabel('Epochs')\n",
        "plt.ylabel('Loss')\n",
        "plt.title('Loss vs Epochs')\n",
        "plt.legend(['train','validate'])\n",
        "plt.show()"
      ],
      "execution_count": 14,
      "outputs": [
        {
          "output_type": "display_data",
          "data": {
            "image/png": "[encoded data removed]",
            "text/plain": [
              "<matplotlib.figure.Figure at 0x7f52961ef630>"
            ]
          },
          "metadata": {
            "tags": []
          }
        }
      ]
    },
    {
      "metadata": {
        "id": "6_8ZE94UgfzB",
        "colab_type": "text"
      },
      "cell_type": "markdown",
      "source": [
        "**Evaluate / Predict**"
      ]
    },
    {
      "metadata": {
        "id": "N9jh6alRgeh6",
        "colab_type": "code",
        "colab": {
          "base_uri": "https://localhost:8080/",
          "height": 34
        },
        "outputId": "1bb31651-408e-47be-84bc-d6ef083aacba"
      },
      "cell_type": "code",
      "source": [
        "predict_datagen = ImageDataGenerator(rescale = 1./255)\n",
        "prediction_set = predict_datagen.flow_from_directory('/content/drive/My Drive/TCS/Machine Vision Challenge/Flower Freshness Index/data/predict',\n",
        "                                                 target_size = (128,128),\n",
        "                                                 batch_size = 16,\n",
        "                                                 class_mode = 'categorical')"
      ],
      "execution_count": 15,
      "outputs": [
        {
          "output_type": "stream",
          "text": [
            "Found 478 images belonging to 2 classes.\n"
          ],
          "name": "stdout"
        }
      ]
    },
    {
      "metadata": {
        "id": "pT-Mto7ShrZD",
        "colab_type": "code",
        "colab": {}
      },
      "cell_type": "code",
      "source": [
        "#Evaluating on test data set\n",
        "acc, loss = classifier.evaluate_generator(prediction_set)"
      ],
      "execution_count": 0,
      "outputs": []
    },
    {
      "metadata": {
        "id": "H5vRdDSJhb6s",
        "colab_type": "code",
        "colab": {
          "base_uri": "https://localhost:8080/",
          "height": 34
        },
        "outputId": "c07ad234-f051-4fdd-ae3b-676db847a8f3"
      },
      "cell_type": "code",
      "source": [
        "print(\"Test Accuracy = %.1f\"%(acc*100))"
      ],
      "execution_count": 17,
      "outputs": [
        {
          "output_type": "stream",
          "text": [
            "Test Accuracy = 77.5\n"
          ],
          "name": "stdout"
        }
      ]
    },
    {
      "metadata": {
        "id": "m2On5xHIhrRn",
        "colab_type": "code",
        "colab": {
          "base_uri": "https://localhost:8080/",
          "height": 259
        },
        "outputId": "57708e42-2acf-4ab2-d807-15c83cf09ca2"
      },
      "cell_type": "code",
      "source": [
        "# Fresh Image\n",
        "test_image1 = image.load_img('/content/drive/My Drive/TCS/Machine Vision Challenge/Flower Freshness Index/data/predict/images_336.jpg', target_size = (128, 128))\n",
        "\n",
        "test_image1 = image.img_to_array(test_image1)\n",
        "test_image1 = np.expand_dims(test_image1, axis = 0)\n",
        "res1=classifier.predict_classes(test_image1)\n",
        "print(\"Predicted Class =\",res1)\n",
        "Image(filename='/content/drive/My Drive/TCS/Machine Vision Challenge/Flower Freshness Index/data/predict/images_336.jpg')"
      ],
      "execution_count": 18,
      "outputs": [
        {
          "output_type": "stream",
          "text": [
            "Predicted Class = [1]\n"
          ],
          "name": "stdout"
        },
        {
          "output_type": "execute_result",
          "data": {
            "image/jpeg": "[encoded data removed]",
            "text/plain": [
              "<IPython.core.display.Image object>"
            ]
          },
          "metadata": {
            "tags": []
          },
          "execution_count": 18
        }
      ]
    },
    {
      "metadata": {
        "id": "PJxnFSWddmU1",
        "colab_type": "code",
        "colab": {
          "base_uri": "https://localhost:8080/",
          "height": 284
        },
        "outputId": "a0024fff-d0c3-4fb1-edf1-2aab619bbdf6"
      },
      "cell_type": "code",
      "source": [
        "# Wilted Flower\n",
        "\n",
        "test_image2 = image.load_img('/content/drive/My Drive/TCS/Machine Vision Challenge/Flower Freshness Index/data/predict/images_281.jpg', target_size = (128, 128))\n",
        "test_image2 = image.img_to_array(test_image2)\n",
        "test_image2 = np.expand_dims(test_image2, axis = 0)\n",
        "res2 = classifier.predict_classes(test_image2)\n",
        "print(\"Predicted Class =\",res2)\n",
        "\n",
        "Image(filename='/content/drive/My Drive/TCS/Machine Vision Challenge/Flower Freshness Index/data/predict/images_281.jpg')"
      ],
      "execution_count": 19,
      "outputs": [
        {
          "output_type": "stream",
          "text": [
            "Predicted Class = [0]\n"
          ],
          "name": "stdout"
        },
        {
          "output_type": "execute_result",
          "data": {
            "image/jpeg": "[encoded data removed]",
            "text/plain": [
              "<IPython.core.display.Image object>"
            ]
          },
          "metadata": {
            "tags": []
          },
          "execution_count": 19
        }
      ]
    },
    {
      "metadata": {
        "id": "H6UlcLTzyLe0",
        "colab_type": "code",
        "colab": {}
      },
      "cell_type": "code",
      "source": [
        ""
      ],
      "execution_count": 0,
      "outputs": []
    }
  ]
}